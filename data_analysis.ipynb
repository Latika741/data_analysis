{
 "cells": [
  {
   "cell_type": "markdown",
   "id": "bb903430-abf0-4ef6-ba61-5fb186f5a755",
   "metadata": {},
   "source": [
    "## data_analysis"
   ]
  },
  {
   "cell_type": "markdown",
   "id": "b912c457-002e-4e82-b358-da72eadde542",
   "metadata": {},
   "source": [
    "## Introduction\n",
    "In this notebook, we will explore various aspects of data science, including languages, libraries, tools, and practical examples. We will also demonstrate arithmetic operations and conversion functions using Python.\n"
   ]
  },
  {
   "cell_type": "markdown",
   "id": "6dc614d5-ac9b-4082-b381-ac3d2e92044d",
   "metadata": {},
   "source": [
    "## Data Science Languages\n",
    "- Python\n",
    "- R\n",
    "- SQL\n",
    "- Julia\n",
    "- Scala\n"
   ]
  },
  {
   "cell_type": "markdown",
   "id": "8f1cffed-cb15-4e4d-a68d-5053e339e1ce",
   "metadata": {},
   "source": [
    "## Data Science Libraries\n",
    "- Pandas\n",
    "- NumPy\n",
    "- Scikit-learn\n",
    "- Matplotlib\n",
    "- Seaborn\n",
    "- TensorFlow\n",
    "- PyTorch\n"
   ]
  },
  {
   "cell_type": "markdown",
   "id": "9b9e914d-f769-4dfb-bde7-a6c8e618f043",
   "metadata": {},
   "source": [
    "## Data Science Tools\n",
    "\n",
    "| Tool        | Description                     |\n",
    "|-------------|---------------------------------|\n",
    "| Jupyter     | Interactive notebook environment |\n",
    "| GitHub       | Code hosting and version control |\n",
    "| Tableau     | Data visualization tool           |\n",
    "| Apache Spark| Big data processing framework    |\n",
    "| Excel       | Spreadsheet software             |\n"
   ]
  },
  {
   "cell_type": "markdown",
   "id": "d5ea0e2f-29b2-4627-8127-0cd4f845b11d",
   "metadata": {},
   "source": [
    "## Arithmetic Expression Examples\n",
    "In this section, we will perform basic arithmetic operations such as addition, multiplication, and more using Python.\n"
   ]
  },
  {
   "cell_type": "code",
   "execution_count": 7,
   "id": "3645bf9c-55f9-4d9c-8caa-1d676c7d7bc7",
   "metadata": {},
   "outputs": [
    {
     "data": {
      "text/plain": [
       "(50, 53)"
      ]
     },
     "execution_count": 7,
     "metadata": {},
     "output_type": "execute_result"
    }
   ],
   "source": [
    "# Multiply and add numbers\n",
    "a = 5\n",
    "b = 10\n",
    "c = 3\n",
    "\n",
    "# Multiplication\n",
    "multiplication_result = a * b\n",
    "\n",
    "# Addition\n",
    "addition_result = multiplication_result + c\n",
    "\n",
    "multiplication_result, addition_result\n"
   ]
  },
  {
   "cell_type": "code",
   "execution_count": 8,
   "id": "bea00f2a-eb33-404d-a462-d8eb7c41b079",
   "metadata": {},
   "outputs": [
    {
     "data": {
      "text/plain": [
       "2.5"
      ]
     },
     "execution_count": 8,
     "metadata": {},
     "output_type": "execute_result"
    }
   ],
   "source": [
    "# Convert minutes to hours\n",
    "def convert_minutes_to_hours(minutes):\n",
    "    hours = minutes / 60\n",
    "    return hours\n",
    "\n",
    "# Example conversion\n",
    "minutes = 150\n",
    "hours = convert_minutes_to_hours(minutes)\n",
    "hours\n"
   ]
  },
  {
   "cell_type": "markdown",
   "id": "028ae0a8-8977-4a0c-be9b-21de7065435c",
   "metadata": {},
   "source": [
    "## Objectives\n",
    "1. Understand and list various data science languages and libraries.\n",
    "2. Explore data science tools through practical examples.\n",
    "3. Perform arithmetic operations and conversions using Python.\n",
    "4. Document the notebook and share it via GitHub.\n"
   ]
  },
  {
   "cell_type": "markdown",
   "id": "33451faf-dfc8-4f20-82d4-f73db53c736b",
   "metadata": {},
   "source": [
    "## Author\n",
    "This notebook was created by Latika.\n"
   ]
  },
  {
   "cell_type": "code",
   "execution_count": null,
   "id": "cbc23050-0546-4f75-a63f-83e2cb361d59",
   "metadata": {},
   "outputs": [],
   "source": []
  }
 ],
 "metadata": {
  "kernelspec": {
   "display_name": "Python 3 (ipykernel)",
   "language": "python",
   "name": "python3"
  },
  "language_info": {
   "codemirror_mode": {
    "name": "ipython",
    "version": 3
   },
   "file_extension": ".py",
   "mimetype": "text/x-python",
   "name": "python",
   "nbconvert_exporter": "python",
   "pygments_lexer": "ipython3",
   "version": "3.12.0"
  }
 },
 "nbformat": 4,
 "nbformat_minor": 5
}
